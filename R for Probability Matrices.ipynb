{
 "cells": [
  {
   "cell_type": "markdown",
   "metadata": {},
   "source": [
    "# Matrix Multiplication\n",
    "\n",
    "## Multiplying 2x2 matrices:\n",
    "\n",
    "Multiplying 2x2 matrices:\n",
    "\n",
    "$$\\begin{bmatrix}A & B\\\\C & D\\end{bmatrix} * \n",
    "\\begin{bmatrix}E & F\\\\G & H\\end{bmatrix} =\n",
    "\\begin{bmatrix}(AE + BG) & (AF + BH)\\\\(CE + DG) & (CF + DH)\\end{bmatrix}\n",
    "$$\n",
    "\n",
    "Gives you another 2x2 matrix as a result.\n",
    "\n",
    "Given the matrix multiplication below\n",
    "$$\\begin{bmatrix}1 & 2\\\\3 & 4\\end{bmatrix} * \n",
    "\\begin{bmatrix}9 & 8\\\\7 & 6\\end{bmatrix} =\n",
    "\\begin{bmatrix}((1*9) + (2*7)) & ((1*8) + (2*6))\\\\((3*9) + (4*7)) & ((3*8) + (4*6))\\end{bmatrix} =\n",
    "\\begin{bmatrix}((9 + 14) & (8 + 12)\\\\(27 + 28) & (24 + 24)\\end{bmatrix}\n",
    "\\begin{bmatrix}23 & 20\\\\55 & 48\\end{bmatrix}\n",
    "$$\n",
    "\n",
    "We will create R code to perform the multiplication"
   ]
  },
  {
   "cell_type": "code",
   "execution_count": 7,
   "metadata": {},
   "outputs": [
    {
     "name": "stdout",
     "output_type": "stream",
     "text": [
      "[1] \"mat1 is: \"\n",
      "     [,1] [,2]\n",
      "[1,]    9    8\n",
      "[2,]    7    6\n",
      "     [,1] [,2]\n",
      "[1,]   23   20\n",
      "[2,]   55   48\n",
      "     [,1] [,2]\n",
      "[1,]    9   16\n",
      "[2,]   21   24\n"
     ]
    }
   ],
   "source": [
    "# Define and print a matrix\n",
    "mat1 <- matrix(c(1,2,3,4), nrow=2, byrow=T)\n",
    "print(\"mat1 is: \", mat1)\n",
    "\n",
    "# Define and print another matrix\n",
    "mat2 <- matrix(c(9,8,7,6), nrow=2, byrow=T)\n",
    "print(mat2)\n",
    "\n",
    "# Multiply and print the result\n",
    "result <- mat1 %*% mat2\n",
    "print(result)"
   ]
  },
  {
   "cell_type": "markdown",
   "metadata": {},
   "source": [
    "## Multiplying a 1x2 with a 2x2 matrix:\n",
    "\n",
    "$$\n",
    "\\begin{bmatrix}A & B\\end{bmatrix} * \n",
    "\\begin{bmatrix}C & D\\\\E & F\\end{bmatrix} =\n",
    "\\begin{bmatrix}(AC + BE) & (AD + BF)\\end{bmatrix}\n",
    "$$\n",
    "\n",
    "Gives you a 1x2 matrix as a result."
   ]
  },
  {
   "cell_type": "markdown",
   "metadata": {},
   "source": [
    "# References\n",
    "\n",
    "DataCamp.com. (n.d.). R Documentation - Matrix. Retrieved December 05, 2020, from https://www.rdocumentation.org/packages/base/versions/3.6.2/topics/matrix\n",
    "\n",
    "Mathisfun.com. (2017). Retrieved December 05, 2020, from https://www.mathsisfun.com/algebra/matrix-introduction.html\n",
    "\n",
    "MathJax Demos. (n.d.). Retrieved December 05, 2020, from https://mathjax.github.io/MathJax-demos-web/"
   ]
  }
 ],
 "metadata": {
  "kernelspec": {
   "display_name": "R",
   "language": "R",
   "name": "ir"
  },
  "language_info": {
   "codemirror_mode": "r",
   "file_extension": ".r",
   "mimetype": "text/x-r-source",
   "name": "R",
   "pygments_lexer": "r",
   "version": "3.6.1"
  }
 },
 "nbformat": 4,
 "nbformat_minor": 4
}
